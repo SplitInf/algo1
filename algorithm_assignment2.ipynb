{
  "cells": [
    {
      "cell_type": "markdown",
      "metadata": {
        "id": "QKuqHAvQQh6F"
      },
      "source": [
        "Part 1:\n",
        "Q1\n",
        "https://github.com/KadiaAshish/DSI_Algorithms_Assignment_1/blob/main/Algorithm_Assignment_1_Ashish_Kadia.pdf"
      ]
    },
    {
      "cell_type": "markdown",
      "metadata": {
        "id": "eTfU6A84R2R8"
      },
      "source": [
        "Part 2 Partner: Ashish Kadia"
      ]
    },
    {
      "cell_type": "markdown",
      "metadata": {
        "id": "BowAHy5HQrnU"
      },
      "source": [
        "Paraphrase the problem in your own words."
      ]
    },
    {
      "cell_type": "code",
      "execution_count": 2,
      "metadata": {
        "id": "Bnc8q91lUw0w"
      },
      "outputs": [],
      "source": [
        "#Given tree of intergers, find nodes that are duplicate. If there are no duplicated nodes then return -1. If there are multiple duplicates then return value that is closest to the root node."
      ]
    },
    {
      "cell_type": "markdown",
      "metadata": {
        "id": "jEu9-7fxQuG0"
      },
      "source": [
        "Create 1 new example that demonstrates you understand the problem. Trace/walkthrough 1 example that your partner made and explain it."
      ]
    },
    {
      "cell_type": "code",
      "execution_count": 3,
      "metadata": {
        "id": "SiFe7FtGVQEG"
      },
      "outputs": [
        {
          "ename": "IndentationError",
          "evalue": "unexpected indent (10529942.py, line 2)",
          "output_type": "error",
          "traceback": [
            "\u001b[0;36m  Cell \u001b[0;32mIn[3], line 2\u001b[0;36m\u001b[0m\n\u001b[0;31m    (10)\u001b[0m\n\u001b[0m    ^\u001b[0m\n\u001b[0;31mIndentationError\u001b[0m\u001b[0;31m:\u001b[0m unexpected indent\n"
          ]
        }
      ],
      "source": [
        "[10, 2, 4, 3, 3, 5, 7]\n",
        " (10)\n",
        "(2)(4)\n",
        "(3) (3) (5) (7)\n",
        "#returns 3"
      ]
    },
    {
      "cell_type": "code",
      "execution_count": null,
      "metadata": {
        "id": "aS-E93xoVmCW"
      },
      "outputs": [],
      "source": [
        "[10, 4, 4, 3, 3, 5, 7]\n",
        " (10)\n",
        "(4)(4)\n",
        "(3) (3) (5) (7)\n",
        "#returns 4"
      ]
    },
    {
      "cell_type": "code",
      "execution_count": null,
      "metadata": {
        "id": "Qf0v_LH8Y3Bp"
      },
      "outputs": [],
      "source": [
        "#imbalanced tree\n",
        " [10, 4, 4, 3, 3]\n",
        " (10)\n",
        "(4)(4)\n",
        "(3) (3)\n",
        "#returns 4"
      ]
    },
    {
      "cell_type": "markdown",
      "metadata": {
        "id": "hA9NPhFeQwLS"
      },
      "source": [
        "Copy the solution your partner wrote.\n",
        "\n"
      ]
    },
    {
      "cell_type": "code",
      "execution_count": 2,
      "metadata": {
        "id": "ctzBrlWLUgPE"
      },
      "outputs": [],
      "source": [
        "# importing necessary library\n",
        "from collections import deque\n",
        "\n",
        "# creating a template for each node which will have two child (left and right)\n",
        "class TreeNode:\n",
        "    def __init__(self, val=0, left=None, right=None):\n",
        "        self.val = val\n",
        "        self.left = left\n",
        "        self.right = right\n",
        "\n",
        "# defining a new function which can convert a list of input to a binary tree structure\n",
        "def list_to_tree(nodes):\n",
        "\n",
        "    # creating and storing first node as root\n",
        "    root = TreeNode(nodes[0])\n",
        "    # initiates level order traversal\n",
        "    queue = deque([root])\n",
        "    i = 1\n",
        "\n",
        "    # creating a while loop which will keep stroing left and right child\n",
        "    while queue and i < len(nodes):\n",
        "        current = queue.popleft()  # Pop the leftmost node from the queue\n",
        "\n",
        "        # creating left child if the value is not None\n",
        "        if nodes[i] is not None:\n",
        "            current.left = TreeNode(nodes[i])\n",
        "            queue.append(current.left)\n",
        "\n",
        "        i += 1\n",
        "\n",
        "        # Creating right child if the value is not None\n",
        "        if i < len(nodes) and nodes[i] is not None:\n",
        "            current.right = TreeNode(nodes[i])\n",
        "            queue.append(current.right)\n",
        "\n",
        "        i += 1\n",
        "\n",
        "    return root\n",
        "\n",
        "# finding duplicates and storing them in dictionary\n",
        "def find_closest_duplicate(root):\n",
        "\n",
        "    queue = deque([(root, 0)])\n",
        "    duplicates = {}\n",
        "\n",
        "    while queue:\n",
        "        # Pop the leftmost node from the queue\n",
        "        node, distance = queue.popleft()\n",
        "        # check for duplicate\n",
        "        if node.val in duplicates:\n",
        "            return node.val\n",
        "\n",
        "        # update dictionary with current node's value and distance\n",
        "        duplicates[node.val] = distance\n",
        "\n",
        "        # add left child to the queue with an increased distance\n",
        "        if node.left:\n",
        "            queue.append((node.left, distance + 1))\n",
        "        # add right child to the queue with an increased distance\n",
        "        if node.right:\n",
        "            queue.append((node.right, distance + 1))\n",
        "\n",
        "    # returning -1 if no duplicates found\n",
        "    return -1\n",
        "\n",
        "def is_symmetric(root: TreeNode) -> int:\n",
        "    return find_closest_duplicate(root)\n",
        "\n",
        "\n"
      ]
    },
    {
      "cell_type": "code",
      "execution_count": 3,
      "metadata": {},
      "outputs": [
        {
          "name": "stdout",
          "output_type": "stream",
          "text": [
            "3\n"
          ]
        }
      ],
      "source": [
        "root = [10, 2, 4, 3, 3, 5, 7]\n",
        "tmp=list_to_tree(root)\n",
        "print(is_symmetric(tmp))"
      ]
    },
    {
      "cell_type": "code",
      "execution_count": 4,
      "metadata": {
        "colab": {
          "base_uri": "https://localhost:8080/"
        },
        "id": "AoEcRUU5V4MP",
        "outputId": "c594c2d8-e8fb-4ebc-e4e9-3f6c3bca9b1d"
      },
      "outputs": [
        {
          "name": "stdout",
          "output_type": "stream",
          "text": [
            "4\n"
          ]
        }
      ],
      "source": [
        "root = [10, 4, 4, 3, 3, 5, 7]\n",
        "tmp=list_to_tree(root)\n",
        "print(is_symmetric(tmp))"
      ]
    },
    {
      "cell_type": "code",
      "execution_count": 5,
      "metadata": {
        "colab": {
          "base_uri": "https://localhost:8080/"
        },
        "id": "4gAiHi51ZCJ6",
        "outputId": "bcf7a275-5a86-418d-94ef-7c357144e43b"
      },
      "outputs": [
        {
          "name": "stdout",
          "output_type": "stream",
          "text": [
            "4\n"
          ]
        }
      ],
      "source": [
        "root =  [10, 4, 4, 3, 3]\n",
        "tmp=list_to_tree(root)\n",
        "print(is_symmetric(tmp))"
      ]
    },
    {
      "cell_type": "markdown",
      "metadata": {
        "id": "vr0gnMWXRM35"
      },
      "source": [
        "**Explain why their solution works in your own words.**\n",
        "\n"
      ]
    },
    {
      "cell_type": "markdown",
      "metadata": {
        "id": "cHlmA0e-Vrnc"
      },
      "source": [
        "This question is a BFS (breadth-first search) algorithm problem. The difficulty of this is in going from a list to a tree and keeping track of the values. Ashish solved this by first iterating the list one value at a time and contstructing the tree along the way (root -> left -> right) in the list_to_tree() function. Then the second fuction find_closest_duplicate() takes the tree and pop the leftmost element from the deque and then add the neighbors of the popped element to the right end of the deque, if it is not a duplicate value. Duplicate values are cleverly handled by the dictionary duplicates{}. As soon as a value from node (node.val) matches with duplicates{} it returns the value. Since this function traverse from the root, this avoids keeping track of the height of the tree as the first duplicate must be closest to the root."
      ]
    },
    {
      "cell_type": "markdown",
      "metadata": {
        "id": "Z-7iwGxVROB4"
      },
      "source": [
        "**Explain the problem’s time and space complexity in your own words.**\n"
      ]
    },
    {
      "cell_type": "markdown",
      "metadata": {
        "id": "BT1rsu2eDzGs"
      },
      "source": [
        "Since all nodes need to be traversed in the worst case, the theoretical time complexity is O(n). The space complexity is depends on the height of the tree and therefore the worst case would be the maximum depth of the tree. There are some some steps that were taken to improve performance, such as by using linked list 'deque' as a queue (as opposed to using the inefficient 'list') which has a time complexity of O(1) for append and pop operations."
      ]
    },
    {
      "cell_type": "markdown",
      "metadata": {
        "id": "RbnHq5bURO5v"
      },
      "source": [
        "**Critique your partner's solution, including explanation, if there is anything should be adjusted.**"
      ]
    },
    {
      "cell_type": "markdown",
      "metadata": {
        "id": "yQ9RXmfxLSwE"
      },
      "source": [
        "Ashish has a good idea of the problem and has solved the problem in a quite optimized way. The code is properly commented as well. From my perspective, it seems difficult to make dramatic improvement to the solution. In terms of area of improvement, I think it is not necessary to keep track of 'distance' in find_closest_duplicate() as distance was not necessary when iterating from root node. Also, I am uncertain why a fourth function is_symmetric() is necssary and can perhaps be be integrated with find_closest_duplicate() for simplicity and cleaner code."
      ]
    },
    {
      "cell_type": "markdown",
      "metadata": {
        "id": "uoIPcDFhRz1X"
      },
      "source": [
        "**Part 3:\n",
        "Please write a 200 word reflection documenting your studying process from assignment 1, and your presentation and reviewing experience with your partner at the bottom of the Juypter Notebook under a new heading \"Reflection.\" Again, export this Notebook as pdf.**"
      ]
    },
    {
      "cell_type": "markdown",
      "metadata": {
        "id": "WkYV8o9EaFqp"
      },
      "source": [
        "**Reflection**"
      ]
    },
    {
      "cell_type": "markdown",
      "metadata": {
        "id": "AViMbw1xZuaz"
      },
      "source": [
        "For Assignment 1, it was tricky to find a more optimal solution in my own submission to find missing intergers from [0,n] given an integer list. It seems that it could be possible to implement a recurrsive approach, but given the limited time, I used a more naive approach by first finding min max value from the given range and traverse through the numbers. The biggest time compexity contributor is the sorting step. Since the numbers must be in order, it seems impossible to avoid this step. From my research sorting problem is quite inefficient so I would love to learn if there is a better way to handle it. I have missed a requirement which is the intergers can range from 0 rather than 1. That was a mistake I wish I had avoided.\n",
        "\n",
        "As for the reveiwing experieince, I find the tree problems quite challenging and understanding the mindset of another person requires some time. I had to repeat working on the problem to fully understands the difficulties and limitations. Thanks to going through this question, I had a better grasp of handling tree questions and learned about using deque."
      ]
    },
    {
      "cell_type": "code",
      "execution_count": null,
      "metadata": {
        "id": "9VS9XsMoPsLq"
      },
      "outputs": [],
      "source": []
    }
  ],
  "metadata": {
    "colab": {
      "provenance": []
    },
    "kernelspec": {
      "display_name": "Python 3",
      "name": "python3"
    },
    "language_info": {
      "codemirror_mode": {
        "name": "ipython",
        "version": 3
      },
      "file_extension": ".py",
      "mimetype": "text/x-python",
      "name": "python",
      "nbconvert_exporter": "python",
      "pygments_lexer": "ipython3",
      "version": "3.11.4"
    }
  },
  "nbformat": 4,
  "nbformat_minor": 0
}
