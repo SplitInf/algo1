{
  "nbformat": 4,
  "nbformat_minor": 0,
  "metadata": {
    "colab": {
      "provenance": []
    },
    "kernelspec": {
      "name": "python3",
      "display_name": "Python 3"
    },
    "language_info": {
      "name": "python"
    }
  },
  "cells": [
    {
      "cell_type": "markdown",
      "source": [
        "Part 1:\n",
        "You will be assigned one of three problems based of your first name. Excute \"(hash('your first name')%3)+1\" in python, and that will tell you your assigned problem. Include this line of code in your submitted notebook pdf. You can find the problem description in q[assigned number].md. They are based-off problems from Leetcode."
      ],
      "metadata": {
        "id": "fb2iOaHua1C7"
      }
    },
    {
      "cell_type": "code",
      "execution_count": null,
      "metadata": {
        "colab": {
          "base_uri": "https://localhost:8080/"
        },
        "id": "kG-x1SsDarVf",
        "outputId": "d6bf9c3b-31fb-4a26-d5d4-061e8df86c8a"
      },
      "outputs": [
        {
          "output_type": "execute_result",
          "data": {
            "text/plain": [
              "3"
            ]
          },
          "metadata": {},
          "execution_count": 1
        }
      ],
      "source": [
        "(hash('Ben Ho')%3)+1"
      ]
    },
    {
      "cell_type": "markdown",
      "source": [
        "**See assignment 3 here:** https://github.com/UofT-DSI/algorithms_and_data_structures/blob/main/assignments/q3.md"
      ],
      "metadata": {
        "id": "76wLXVLAieDO"
      }
    },
    {
      "cell_type": "markdown",
      "source": [
        "Part 2:\n",
        "In a Jupyter Notebook (.ipynb) file, create 6 headings are write down the following:\n",
        "\n"
      ],
      "metadata": {
        "id": "vkP4ac2sbEEK"
      }
    },
    {
      "cell_type": "markdown",
      "source": [
        "**Paraphrase the problem in your own words**\n",
        "- Give a range of unsorted and non-unique integers, return a sorted list of missing integers. If there are no missing values, return -1"
      ],
      "metadata": {
        "id": "bFvIDEyjblRV"
      }
    },
    {
      "cell_type": "markdown",
      "source": [
        "**In the .md file containing your problem, there are examples that illustrate how the code should work. Create 2 new examples that demonstrate you understand the problem.**"
      ],
      "metadata": {
        "id": "LsQMm8e4bm5P"
      }
    },
    {
      "cell_type": "code",
      "source": [
        "### Example 1\n",
        "\n",
        "Input: `lst = [5, 0, 4, 12, 9]`\n",
        "\n",
        "Output: [1, 2, 3, 6, 7, 8, 10, 11]\n",
        "\n",
        "### Example 2\n",
        "\n",
        "Input: `lst = [1, 2, 3, 4]`\n",
        "\n",
        "Output: -1"
      ],
      "metadata": {
        "id": "_wPV_a0lDkwY"
      },
      "execution_count": 2,
      "outputs": []
    },
    {
      "cell_type": "markdown",
      "source": [
        "**Code the solution to your assigned problem in Python (code chunk). Try to find the best time and space complexity solution!**"
      ],
      "metadata": {
        "id": "lYaLuFNubocy"
      }
    },
    {
      "cell_type": "code",
      "source": [
        "def missing_num(nums: lst) -> int:\n",
        "  #create sorted list\n",
        "  lst_sorted=sorted(lst) #O(n^2)\n",
        "  #create full range of numbers with first and last object\n",
        "  full_range=range(lst_sorted[0], lst_sorted[-1], 1)\n",
        "\n",
        "  #create new list to store output\n",
        "  lst_missing=[]\n",
        "\n",
        "  #iterate though full_range and return items if it is not in input list to new list\n",
        "  for i in full_range: #O(n)\n",
        "    if i not in lst:\n",
        "      lst_missing.append(i)\n",
        "\n",
        "  #return new list is size is not 0, else returns -1\n",
        "  if len(lst_missing) > 0:\n",
        "    return(lst_missing)\n",
        "  else:\n",
        "    return(-1)\n",
        ""
      ],
      "metadata": {
        "id": "1Sw__ivRNS40"
      },
      "execution_count": 29,
      "outputs": []
    },
    {
      "cell_type": "code",
      "source": [
        "#test 1\n",
        "lst = [5, 0, 4, 12, 9]\n",
        "missing_num(lst)\n"
      ],
      "metadata": {
        "colab": {
          "base_uri": "https://localhost:8080/"
        },
        "id": "q4ITU9RgRJWo",
        "outputId": "74d3cacc-3e92-4790-ba6b-733ff16afd5c"
      },
      "execution_count": 34,
      "outputs": [
        {
          "output_type": "execute_result",
          "data": {
            "text/plain": [
              "[1, 2, 3, 6, 7, 8, 10, 11]"
            ]
          },
          "metadata": {},
          "execution_count": 34
        }
      ]
    },
    {
      "cell_type": "code",
      "source": [
        "#test 2\n",
        "lst = [1, 2, 3, 4]\n",
        "missing_num(lst)\n"
      ],
      "metadata": {
        "colab": {
          "base_uri": "https://localhost:8080/"
        },
        "id": "mE4KCWbfV17s",
        "outputId": "38f6dbcb-ffc6-48f1-deac-b8802db3afdc"
      },
      "execution_count": 35,
      "outputs": [
        {
          "output_type": "execute_result",
          "data": {
            "text/plain": [
              "-1"
            ]
          },
          "metadata": {},
          "execution_count": 35
        }
      ]
    },
    {
      "cell_type": "markdown",
      "source": [
        "**Explain why your solution works**\n",
        "\n",
        "This solution works because it ignores duplicated values by taking the first and last value in a sorted list. Once the minimum and maximum values are obtained, then the rest of the solution is down returning items that has not appeard in the original list."
      ],
      "metadata": {
        "id": "Ph4MzrUnbrE6"
      }
    },
    {
      "cell_type": "markdown",
      "source": [
        "**Explain the problem’s and space complexity**\n",
        "\n",
        "There are two bottleneck for time complexity in the implemented solution: the first is from sorting the list with sorted() which has O(n^2); checking for missing values from the original list through iterative loop have time complexity of O(n). As such, the overall time complexity is O(n^2)\n",
        "\n",
        "In terms of space complexity, there are 3 lists that are created and they are all O(n)."
      ],
      "metadata": {
        "id": "NQxdJ6avbsoG"
      }
    },
    {
      "cell_type": "markdown",
      "source": [
        "Explain the thinking to an alternative solution (no coding required, but a classmate reading this should be able to code it up based off your text)"
      ],
      "metadata": {
        "id": "w5PFAS5GbuF8"
      }
    },
    {
      "cell_type": "code",
      "source": [
        "#alternative solution using set difference\n",
        "#1. given input integer 'lst', create sorted range of numbers\n",
        "#2. get min max from sorted range and create 'full_range'\n",
        "#3. apply difference() of full_range on lst"
      ],
      "metadata": {
        "id": "K4frJnjfXAnn"
      },
      "execution_count": null,
      "outputs": []
    },
    {
      "cell_type": "markdown",
      "source": [],
      "metadata": {
        "id": "7ZtQgRzAbFF3"
      }
    }
  ]
}